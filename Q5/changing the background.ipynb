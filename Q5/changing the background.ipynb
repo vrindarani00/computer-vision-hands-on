{
 "cells": [
  {
   "cell_type": "code",
   "execution_count": 18,
   "metadata": {},
   "outputs": [],
   "source": [
    "import cv2\n",
    "\n",
    "# Load the video\n",
    "cap = cv2.VideoCapture(r\"C:\\Users\\vrinda\\Desktop\\2nd sem\\CV\\5th.mp4\")\n",
    "\n",
    "# Load the background image\n",
    "background = cv2.imread(r\"C:\\Users\\vrinda\\Desktop\\2nd sem\\CV\\gabor(3).jpg\")\n",
    "\n",
    "# Loop through the frames in the video\n",
    "while True:\n",
    "    # Read a frame from the video\n",
    "    ret, frame = cap.read()\n",
    "    \n",
    "    # Break the loop if we have reached the end of the video\n",
    "    if not ret:\n",
    "        break\n",
    "    \n",
    "    # Convert the frame to grayscale\n",
    "    gray = cv2.cvtColor(frame, cv2.COLOR_BGR2GRAY)\n",
    "    \n",
    "    # Threshold the grayscale image to create a binary mask\n",
    "    ret, mask = cv2.threshold(gray, 100, 255, cv2.THRESH_BINARY)\n",
    "    \n",
    "    # Invert the binary mask\n",
    "    mask_inv = cv2.bitwise_not(mask)\n",
    "    \n",
    "    # Apply the binary mask to the frame to get the foreground\n",
    "    fg = cv2.bitwise_and(frame, frame, mask=mask_inv)\n",
    "    \n",
    "    # Resize the background image to match the size of the frame\n",
    "    background = cv2.resize(background, (frame.shape[1], frame.shape[0]))\n",
    "    \n",
    "    # Apply the binary mask to the background to get the background region\n",
    "    bg = cv2.bitwise_and(background, background, mask=mask)\n",
    "    \n",
    "    # Combine the foreground and background regions using the binary mask\n",
    "    out = cv2.add(bg, fg)\n",
    "    \n",
    "    # Display the resulting image\n",
    "    cv2.imshow('Output', out)\n",
    "    \n",
    "    # Wait for a key press\n",
    "    if cv2.waitKey(1) == ord('q'):\n",
    "        break\n",
    "\n",
    "# Release the video capture object and close all windows\n",
    "cap.release()\n",
    "cv2.waitKey()\n",
    "cv2.destroyAllWindows()\n"
   ]
  },
  {
   "cell_type": "code",
   "execution_count": null,
   "metadata": {},
   "outputs": [],
   "source": []
  }
 ],
 "metadata": {
  "kernelspec": {
   "display_name": "base",
   "language": "python",
   "name": "python3"
  },
  "language_info": {
   "codemirror_mode": {
    "name": "ipython",
    "version": 3
   },
   "file_extension": ".py",
   "mimetype": "text/x-python",
   "name": "python",
   "nbconvert_exporter": "python",
   "pygments_lexer": "ipython3",
   "version": "3.9.13"
  },
  "orig_nbformat": 4
 },
 "nbformat": 4,
 "nbformat_minor": 2
}
