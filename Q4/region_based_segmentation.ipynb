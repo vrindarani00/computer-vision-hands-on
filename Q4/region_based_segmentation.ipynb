{
 "cells": [
  {
   "cell_type": "code",
   "execution_count": 16,
   "metadata": {},
   "outputs": [],
   "source": [
    "import cv2\n",
    "import numpy as np"
   ]
  },
  {
   "cell_type": "code",
   "execution_count": 17,
   "metadata": {},
   "outputs": [],
   "source": [
    "# input\n",
    "pic = cv2.imread(r'D:\\duk\\SEM 2\\cv\\images\\duk.jpg')"
   ]
  },
  {
   "cell_type": "code",
   "execution_count": 18,
   "metadata": {},
   "outputs": [],
   "source": [
    "# grayscale image\n",
    "gray = cv2.cvtColor(pic, cv2.COLOR_BGR2GRAY)\n",
    "\n",
    "# applying Sobel edge detection\n",
    "sobelx = cv2.Sobel(gray, cv2.CV_64F, 1, 0, ksize=5)\n",
    "sobely = cv2.Sobel(gray, cv2.CV_64F, 0, 1, ksize=5)\n",
    "sobel = cv2.addWeighted(sobelx, 0.5, sobely, 0.5, 0)\n",
    "\n",
    "# mean and standard deviation of Sobel image\n",
    "mean, std = cv2.meanStdDev(sobel)\n",
    "\n",
    "# Apply thresholding based on the mean and standard deviation\n",
    "thresholded = cv2.inRange(sobel, mean - std, mean + std)\n",
    "\n",
    "# filling\n",
    "kernel = cv2.getStructuringElement(cv2.MORPH_RECT, (3, 3))\n",
    "closed = cv2.morphologyEx(thresholded, cv2.MORPH_CLOSE, kernel)\n",
    "\n",
    "# Finding the connected components\n",
    "temp , labels = cv2.connectedComponents(closed)\n",
    "\n",
    "# color map for the labels\n",
    "color_map = np.zeros((labels.max() + 1, 3), dtype=np.uint8)\n",
    "color_map[1:, :] = np.random.randint(0, 255, size=(labels.max(), 3))\n",
    "\n",
    "# Applying the color map to the labels\n",
    "colored = color_map[labels]"
   ]
  },
  {
   "cell_type": "code",
   "execution_count": 19,
   "metadata": {},
   "outputs": [],
   "source": [
    "# output\n",
    "cv2.imshow('Original Image', pic)\n",
    "cv2.imshow('Segmented Image', colored)\n",
    "cv2.waitKey(0)\n",
    "cv2.destroyAllWindows()"
   ]
  },
  {
   "cell_type": "code",
   "execution_count": null,
   "metadata": {},
   "outputs": [],
   "source": []
  }
 ],
 "metadata": {
  "kernelspec": {
   "display_name": "Python 3",
   "language": "python",
   "name": "python3"
  },
  "language_info": {
   "codemirror_mode": {
    "name": "ipython",
    "version": 3
   },
   "file_extension": ".py",
   "mimetype": "text/x-python",
   "name": "python",
   "nbconvert_exporter": "python",
   "pygments_lexer": "ipython3",
   "version": "3.11.2"
  },
  "orig_nbformat": 4
 },
 "nbformat": 4,
 "nbformat_minor": 2
}
