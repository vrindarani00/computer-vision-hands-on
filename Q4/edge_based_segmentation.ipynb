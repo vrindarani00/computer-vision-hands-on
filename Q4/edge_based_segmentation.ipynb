{
 "cells": [
  {
   "cell_type": "code",
   "execution_count": 18,
   "metadata": {},
   "outputs": [],
   "source": [
    "# loading packages\n",
    "import cv2"
   ]
  },
  {
   "cell_type": "code",
   "execution_count": 19,
   "metadata": {},
   "outputs": [],
   "source": [
    "# input image\n",
    "pic = cv2.imread(r'D:\\duk\\SEM 2\\cv\\images\\duk.jpg')\n"
   ]
  },
  {
   "cell_type": "code",
   "execution_count": 20,
   "metadata": {},
   "outputs": [],
   "source": [
    "# Convert the image to grayscale\n",
    "input_gray = cv2.cvtColor(pic, cv2.COLOR_BGR2GRAY)\n",
    "\n",
    "# Apply Gaussian blur\n",
    "input_blur = cv2.GaussianBlur(input_gray, (3, 3), 0)\n",
    "\n",
    "# applying Canny edge detection algorithm to image\n",
    "input_edges = cv2.Canny(input_blur, 50, 100)\n",
    "\n",
    "# thresholding\n",
    "temp , thresholded = cv2.threshold(input_edges, 0, 255, cv2.THRESH_BINARY + cv2.THRESH_OTSU)\n",
    "\n",
    "# filling segments after detecting edges\n",
    "struc_elmnt = cv2.getStructuringElement(cv2.MORPH_RECT, (7, 7))\n",
    "filled = cv2.morphologyEx(input_edges, cv2.MORPH_CLOSE, struc_elmnt)"
   ]
  },
  {
   "cell_type": "code",
   "execution_count": 21,
   "metadata": {},
   "outputs": [],
   "source": [
    "# output\n",
    "cv2.imshow('Original Image', pic)\n",
    "cv2.imshow('Edges', input_edges)\n",
    "cv2.imshow('Segmented Image', filled)\n",
    "cv2.waitKey(0)\n",
    "cv2.destroyAllWindows()"
   ]
  },
  {
   "cell_type": "code",
   "execution_count": null,
   "metadata": {},
   "outputs": [],
   "source": []
  }
 ],
 "metadata": {
  "kernelspec": {
   "display_name": "Python 3",
   "language": "python",
   "name": "python3"
  },
  "language_info": {
   "codemirror_mode": {
    "name": "ipython",
    "version": 3
   },
   "file_extension": ".py",
   "mimetype": "text/x-python",
   "name": "python",
   "nbconvert_exporter": "python",
   "pygments_lexer": "ipython3",
   "version": "3.11.2"
  },
  "orig_nbformat": 4
 },
 "nbformat": 4,
 "nbformat_minor": 2
}
