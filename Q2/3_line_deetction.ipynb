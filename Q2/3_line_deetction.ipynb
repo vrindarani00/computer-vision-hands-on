{
 "cells": [
  {
   "cell_type": "code",
   "execution_count": 15,
   "metadata": {},
   "outputs": [],
   "source": [
    "import cv2\n",
    "import numpy as np\n",
    "\n",
    "# Load image\n",
    "# better for images with less lines\n",
    "img = cv2.imread('F:\\DCIM\\Flipkart\\IMG-20220616-WA0012.jpg')\n",
    "\n",
    "if img is not None:  # check if the image is loaded successfully\n",
    "    # Convert image to grayscale\n",
    "    gray = cv2.cvtColor(img, cv2.COLOR_BGR2GRAY)\n",
    "\n",
    "    # Apply Canny edge detection\n",
    "    edges = cv2.Canny(gray, 50, 150, apertureSize=3) # image, minimum and maximum threshold values, and aperture size(3 x 3 matrix)\n",
    "\n",
    "    # Apply Hough Transform to detect lines\n",
    "    lines = cv2.HoughLines(edges, rho=1, theta=np.pi/180, threshold=100) # edges image, distance resolution (rho), angle resolution (theta), and threshold\n",
    "                                                                         # distance resolution and angle resolution determine the accuracy of the detected lines\n",
    "                                                                         # ρ is the distance from the origin to the line, and θ is the angle between the x-axis and the normal to the line\n",
    "                                                                         # the threshold determines the minimum number of votes required for a line to be detected\n",
    "\n",
    "    if lines is not None:  # check if lines are detected\n",
    "        # Draw detected lines on the image\n",
    "        for line in lines:\n",
    "            rho, theta = line[0] # extract the (ρ, θ) parameters of the line from the 1x2 matrix.\n",
    "            a = np.cos(theta)    # compute the cosine of the angle θ.\n",
    "            b = np.sin(theta)    # compute the sine of the angle θ.\n",
    "            x0 = a*rho           # calculate the x-coordinate of the point where the line intersects the y-axis (i.e., when x=0) using the equation ρ = xcos(θ) + ysin(θ).\n",
    "            y0 = b*rho           # calculate the y-coordinate of the point where the line intersects the x-axis (i.e., when y=0) using the same equation.\n",
    "            x1 = int(x0 + 1000*(-b))   # calculate the x-coordinate of an endpoint of the line by subtracting 1000 times the sine of θ from x0 and rounding to the nearest integer.\n",
    "            y1 = int(y0 + 1000*(a))    # calculate the y-coordinate of the same endpoint by adding 1000 times the cosine of θ to y0 and rounding to the nearest integer\n",
    "            x2 = int(x0 - 1000*(-b))   # calculate the x-coordinate of the other endpoint of the line by adding 1000 times the sine of θ to x0 and rounding to the nearest integer.\n",
    "            y2 = int(y0 - 1000*(a))    # calculate the y-coordinate of the same endpoint by subtracting 1000 times the cosine of θ from y0 and rounding to the nearest integer\n",
    "            cv2.line(img, (x1, y1), (x2, y2), (0, 0, 255), 2)   # draw the line on the original image, red thickness 2 pixels\n",
    "\n",
    "        # Display the resulting image\n",
    "        cv2.imshow('Hough Transform Line Detection', img)\n",
    "        cv2.waitKey(0)\n",
    "        cv2.destroyAllWindows()\n",
    "\n",
    "    else:\n",
    "        print('No lines detected')\n",
    "else:\n",
    "    print('Failed to load image')\n"
   ]
  },
  {
   "cell_type": "code",
   "execution_count": null,
   "metadata": {},
   "outputs": [],
   "source": []
  }
 ],
 "metadata": {
  "kernelspec": {
   "display_name": "Python 3",
   "language": "python",
   "name": "python3"
  },
  "language_info": {
   "codemirror_mode": {
    "name": "ipython",
    "version": 3
   },
   "file_extension": ".py",
   "mimetype": "text/x-python",
   "name": "python",
   "nbconvert_exporter": "python",
   "pygments_lexer": "ipython3",
   "version": "3.11.2"
  },
  "orig_nbformat": 4
 },
 "nbformat": 4,
 "nbformat_minor": 2
}
