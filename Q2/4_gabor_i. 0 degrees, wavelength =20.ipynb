{
 "cells": [
  {
   "cell_type": "code",
   "execution_count": null,
   "metadata": {},
   "outputs": [],
   "source": [
    "#importing neccesary libraries \n",
    "import numpy as np\n",
    "import cv2\n",
    "import matplotlib.pyplot as plt"
   ]
  },
  {
   "cell_type": "code",
   "execution_count": 2,
   "metadata": {},
   "outputs": [],
   "source": [
    "#defining the kernel\n",
    "ksize = 50\n",
    "#right value for ksize which makes sense to the  and feature size \n",
    "\n",
    "sigma = 3\n",
    "#theta = 1*np.pi/4\n",
    "theta = 0\n",
    "lamda = 1*np.pi/9\n",
    "gamma = 0.5\n",
    "phi = 0"
   ]
  },
  {
   "cell_type": "code",
   "execution_count": 3,
   "metadata": {},
   "outputs": [],
   "source": [
    "kernel = cv2.getGaborKernel((ksize,ksize),sigma,theta,lamda,gamma,phi,ktype=cv2.CV_32F)\n",
    "#ktype is the datatype\n",
    "#cv_37F means once the kernel is generated how do we want to store the numbers ,32F is float32"
   ]
  },
  {
   "cell_type": "code",
   "execution_count": 4,
   "metadata": {},
   "outputs": [],
   "source": [
    "img = cv2.imread(r\"F:\\DCIM\\Flipkart\\IMG-20220621-WA0041.jpg\")\n",
    "img = cv2.cvtColor(img,cv2.COLOR_BGR2GRAY)\n",
    "gf = cv2.filter2D(img,cv2.CV_8UC3,kernel)\n",
    "resize_kernel = cv2.resize(kernel,(400,400))\n",
    "cv2.imshow('GABOR FILTER',gf)\n",
    "cv2.imshow('Kernel',resize_kernel)\n",
    "\n",
    "cv2.imshow('original image',img)\n",
    "cv2.waitKey()\n",
    "cv2.destroyAllWindows()"
   ]
  },
  {
   "cell_type": "code",
   "execution_count": null,
   "metadata": {},
   "outputs": [],
   "source": []
  }
 ],
 "metadata": {
  "kernelspec": {
   "display_name": "base",
   "language": "python",
   "name": "python3"
  },
  "language_info": {
   "codemirror_mode": {
    "name": "ipython",
    "version": 3
   },
   "file_extension": ".py",
   "mimetype": "text/x-python",
   "name": "python",
   "nbconvert_exporter": "python",
   "pygments_lexer": "ipython3",
   "version": "3.11.2"
  },
  "orig_nbformat": 4
 },
 "nbformat": 4,
 "nbformat_minor": 2
}
