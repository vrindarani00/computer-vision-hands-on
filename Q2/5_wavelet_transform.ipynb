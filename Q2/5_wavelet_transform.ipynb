{
 "cells": [
  {
   "cell_type": "code",
   "execution_count": 1,
   "metadata": {},
   "outputs": [],
   "source": [
    "# importing neccessary packages\n",
    "import cv2\n",
    "import numpy as np\n",
    "import pywt\n",
    "\n",
    "# Loading the image as grayscale\n",
    "image = cv2.imread('D:\\duk\\SEM 2\\cv\\images\\duk.jpg')\n",
    "picture = cv2.imread('D:\\duk\\SEM 2\\cv\\images\\duk.jpg', cv2.IMREAD_GRAYSCALE)\n",
    "\n",
    "# Choosing a wavelet family db4 and level of decomposition 2\n",
    "wavelet = 'db4'\n",
    "level = 2\n",
    "\n",
    "# applying the DWT on the image using PyWavelets' pywt.dwt2() function\n",
    "coeffs = pywt.dwt2(picture, wavelet)\n",
    "\n",
    "# Perform the inverse DWT on the coefficients using pywt.idwt2() function\n",
    "reconstructed_picture = pywt.idwt2(coeffs, wavelet)\n",
    "\n",
    "\n",
    "cv2.imshow('grayscale image', picture)  # grayscale image\n",
    "cv2.imshow('original image',image)  # original image\n",
    "cv2.imshow('reconstructed image',reconstructed_picture) # reconstructed\n",
    "cv2.waitKey(0)\n",
    "cv2.destroyAllWindows()\n"
   ]
  },
  {
   "cell_type": "code",
   "execution_count": null,
   "metadata": {},
   "outputs": [],
   "source": []
  }
 ],
 "metadata": {
  "kernelspec": {
   "display_name": "Python 3",
   "language": "python",
   "name": "python3"
  },
  "language_info": {
   "codemirror_mode": {
    "name": "ipython",
    "version": 3
   },
   "file_extension": ".py",
   "mimetype": "text/x-python",
   "name": "python",
   "nbconvert_exporter": "python",
   "pygments_lexer": "ipython3",
   "version": "3.11.2"
  },
  "orig_nbformat": 4
 },
 "nbformat": 4,
 "nbformat_minor": 2
}
