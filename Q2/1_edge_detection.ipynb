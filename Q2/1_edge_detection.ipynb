{
 "cells": [
  {
   "cell_type": "code",
   "execution_count": 12,
   "metadata": {},
   "outputs": [],
   "source": [
    "# Edge detection using Canny edge detection\n",
    "\n",
    "# importing packages\n",
    "import cv2"
   ]
  },
  {
   "cell_type": "code",
   "execution_count": 14,
   "metadata": {},
   "outputs": [],
   "source": [
    "# input\n",
    "input_picture = cv2.imread('D:\\duk\\SEM 2\\cv\\images\\duk.jpg') # read image\n",
    "cv2.imshow('Input Image',input_picture)                      # display image\n",
    "\n",
    "\n",
    "# converting image into gray level image(black and white) as Canny edge detection works only on gray scale images\n",
    "# using cvtColor()\n",
    "graylevel_image = cv2.cvtColor(input_picture, cv2.COLOR_BGR2GRAY)\n",
    "\n",
    "# reducing noise by applying Gaussian blur \n",
    "blurred_image = cv2.GaussianBlur(graylevel_image, (3,3),0)\n",
    "\n",
    "# applying Canny edge detection\n",
    "final_picture = cv2.Canny(blurred_image, 100, 200)\n",
    "\n",
    "# output\n",
    "cv2.imshow('Final Output Image',final_picture)  # display image\n",
    "cv2.waitKey(0)\n",
    "cv2.destroyAllWindows()"
   ]
  },
  {
   "cell_type": "code",
   "execution_count": null,
   "metadata": {},
   "outputs": [],
   "source": []
  }
 ],
 "metadata": {
  "kernelspec": {
   "display_name": "Python 3",
   "language": "python",
   "name": "python3"
  },
  "language_info": {
   "codemirror_mode": {
    "name": "ipython",
    "version": 3
   },
   "file_extension": ".py",
   "mimetype": "text/x-python",
   "name": "python",
   "nbconvert_exporter": "python",
   "pygments_lexer": "ipython3",
   "version": "3.11.2"
  },
  "orig_nbformat": 4
 },
 "nbformat": 4,
 "nbformat_minor": 2
}
