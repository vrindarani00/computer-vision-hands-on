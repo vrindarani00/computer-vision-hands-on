{
 "cells": [
  {
   "cell_type": "code",
   "execution_count": 4,
   "metadata": {},
   "outputs": [],
   "source": [
    "import cv2\n",
    "# Load image\n",
    "img = cv2.imread('F:\\DCIM\\Flipkart\\IMG-20220721-WA0010.jpg')\n",
    "\n",
    "# Convert image to grayscale\n",
    "gray = cv2.cvtColor(img, cv2.COLOR_BGR2GRAY)\n",
    "\n",
    "# Set parameters for FAST algorithm\n",
    "threshold = 50\n",
    "nonmaxSuppression = True\n",
    "\n",
    "# Apply FAST algorithm\n",
    "fast = cv2.FastFeatureDetector_create(threshold, nonmaxSuppression)\n",
    "keypoints = fast.detect(gray, None)\n",
    "\n",
    "# Draw circles at the corner positions\n",
    "img_corners = cv2.drawKeypoints(img, keypoints, None, color=(0, 255, 0))\n",
    "\n",
    "# Display the resulting image\n",
    "cv2.imshow(\"op\",img_corners)\n",
    "cv2.waitKey(0)\n",
    "cv2.destroyAllWindows()"
   ]
  },
  {
   "cell_type": "code",
   "execution_count": null,
   "metadata": {},
   "outputs": [],
   "source": []
  }
 ],
 "metadata": {
  "kernelspec": {
   "display_name": "Python 3",
   "language": "python",
   "name": "python3"
  },
  "language_info": {
   "codemirror_mode": {
    "name": "ipython",
    "version": 3
   },
   "file_extension": ".py",
   "mimetype": "text/x-python",
   "name": "python",
   "nbconvert_exporter": "python",
   "pygments_lexer": "ipython3",
   "version": "3.11.2"
  },
  "orig_nbformat": 4
 },
 "nbformat": 4,
 "nbformat_minor": 2
}
