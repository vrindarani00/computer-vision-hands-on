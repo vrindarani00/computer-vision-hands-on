{
 "cells": [
  {
   "cell_type": "code",
   "execution_count": 2,
   "metadata": {},
   "outputs": [
    {
     "name": "stdout",
     "output_type": "stream",
     "text": [
      "              precision    recall  f1-score   support\n",
      "\n",
      "           1       0.59      0.76      0.67       207\n",
      "           2       0.60      0.09      0.15        34\n",
      "           3       0.53      0.67      0.59       210\n",
      "           4       0.62      0.53      0.57        77\n",
      "           5       0.50      0.59      0.54        92\n",
      "           6       0.52      0.40      0.45        80\n",
      "           7       0.52      0.41      0.46        54\n",
      "           8       0.51      0.32      0.40        56\n",
      "           9       0.52      0.37      0.43        41\n",
      "          10       0.75      0.43      0.54        94\n",
      "          11       0.50      0.63      0.56       105\n",
      "          12       0.47      0.42      0.45        92\n",
      "\n",
      "    accuracy                           0.55      1142\n",
      "   macro avg       0.55      0.47      0.48      1142\n",
      "weighted avg       0.56      0.55      0.54      1142\n",
      "\n"
     ]
    }
   ],
   "source": [
    "import cv2\n",
    "import numpy as np\n",
    "import h5py\n",
    "from skimage.feature import local_binary_pattern\n",
    "from sklearn.ensemble import RandomForestClassifier\n",
    "from sklearn.model_selection import train_test_split\n",
    "from sklearn.metrics import classification_report\n",
    "\n",
    "train_data = r'C:\\Users\\vrinda\\Documents\\GitHub\\computer-vision-hands-on\\Problem\\dataset\\wood_species_train.hdF5'\n",
    "with h5py.File(train_data, 'r') as f:\n",
    "    imgs = f['images'][:]\n",
    "    labels = f['labels'][:]\n",
    "\n",
    "# Load the dataset and labels\n",
    "dataset = []\n",
    "labels_list = []\n",
    "\n",
    "# Populate the dataset and labels\n",
    "for img, label in zip(imgs, labels):\n",
    "    gray = cv2.cvtColor(img, cv2.COLOR_BGR2GRAY)\n",
    "    dataset.append(gray)\n",
    "    labels_list.append(label)\n",
    "\n",
    "# Split the dataset into training and testing sets\n",
    "X_train, X_test, y_train, y_test = train_test_split(dataset, labels_list, test_size=0.2, random_state=42)\n",
    "\n",
    "# Preprocess the training images\n",
    "X_train_processed = []\n",
    "for image in X_train:\n",
    "    preprocessed_image = cv2.resize(image, (64, 64))\n",
    "    X_train_processed.append(preprocessed_image)\n",
    "\n",
    "# Extract texture features using Local Binary Patterns (LBP)\n",
    "X_train_features = []\n",
    "for image in X_train_processed:\n",
    "    lbp = local_binary_pattern(image, 8, 1, method='uniform')\n",
    "    hist, _ = np.histogram(lbp.ravel(), bins=np.arange(0, 59), range=(0, 58))\n",
    "    X_train_features.append(hist)\n",
    "\n",
    "# Train a Random Forest classifier\n",
    "classifier = RandomForestClassifier(n_estimators=100)\n",
    "classifier.fit(X_train_features, y_train)\n",
    "\n",
    "# Preprocess and extract features from the testing images\n",
    "X_test_processed = []\n",
    "for image in X_test:\n",
    "    preprocessed_image = cv2.resize(image, (64, 64))\n",
    "    X_test_processed.append(preprocessed_image)\n",
    "\n",
    "X_test_features = []\n",
    "for image in X_test_processed:\n",
    "    lbp = local_binary_pattern(image, 8, 1, method='uniform')\n",
    "    hist, _ = np.histogram(lbp.ravel(), bins=np.arange(0, 59), range=(0, 58))\n",
    "    X_test_features.append(hist)\n",
    "\n",
    "# Make predictions on the testing set\n",
    "y_pred = classifier.predict(X_test_features)\n",
    "\n",
    "# Evaluate the model\n",
    "print(classification_report(y_test, y_pred))\n",
    "\n"
   ]
  },
  {
   "cell_type": "code",
   "execution_count": null,
   "metadata": {},
   "outputs": [],
   "source": []
  }
 ],
 "metadata": {
  "kernelspec": {
   "display_name": "base",
   "language": "python",
   "name": "python3"
  },
  "language_info": {
   "codemirror_mode": {
    "name": "ipython",
    "version": 3
   },
   "file_extension": ".py",
   "mimetype": "text/x-python",
   "name": "python",
   "nbconvert_exporter": "python",
   "pygments_lexer": "ipython3",
   "version": "3.9.16"
  },
  "orig_nbformat": 4
 },
 "nbformat": 4,
 "nbformat_minor": 2
}
