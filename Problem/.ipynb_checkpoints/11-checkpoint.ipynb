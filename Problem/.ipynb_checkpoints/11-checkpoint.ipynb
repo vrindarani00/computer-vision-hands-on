{
 "cells": [
  {
   "cell_type": "code",
   "execution_count": null,
   "metadata": {},
   "outputs": [],
   "source": [
    "import cv2\n",
    "import os"
   ]
  },
  {
   "cell_type": "code",
   "execution_count": 2,
   "metadata": {},
   "outputs": [
    {
     "name": "stdout",
     "output_type": "stream",
     "text": [
      "Collecting python-bioformats\n",
      "  Using cached python_bioformats-4.0.7-py3-none-any.whl (40.6 MB)\n",
      "Collecting boto3>=1.14.23\n",
      "  Downloading boto3-1.26.126-py3-none-any.whl (135 kB)\n",
      "     ------------------------------------ 135.6/135.6 kB 236.1 kB/s eta 0:00:00\n",
      "Requirement already satisfied: future>=0.18.2 in c:\\users\\g\\anaconda3\\lib\\site-packages (from python-bioformats) (0.18.3)\n",
      "Collecting python-javabridge==4.0.3\n",
      "  Using cached python-javabridge-4.0.3.tar.gz (1.3 MB)\n",
      "  Preparing metadata (setup.py): started\n",
      "  Preparing metadata (setup.py): finished with status 'error'\n"
     ]
    },
    {
     "name": "stderr",
     "output_type": "stream",
     "text": [
      "  error: subprocess-exited-with-error\n",
      "  \n",
      "  python setup.py egg_info did not run successfully.\n",
      "  exit code: 1\n",
      "  \n",
      "  [10 lines of output]\n",
      "  Traceback (most recent call last):\n",
      "    File \"<string>\", line 2, in <module>\n",
      "    File \"<pip-setuptools-caller>\", line 34, in <module>\n",
      "    File \"C:\\Users\\G\\AppData\\Local\\Temp\\pip-install-3jiq232y\\python-javabridge_ac48ae08aa184d7e9fc814d62a0d8be8\\setup.py\", line 412, in <module>\n",
      "      ext_modules=ext_modules(),\n",
      "    File \"C:\\Users\\G\\AppData\\Local\\Temp\\pip-install-3jiq232y\\python-javabridge_ac48ae08aa184d7e9fc814d62a0d8be8\\setup.py\", line 96, in ext_modules\n",
      "      java_home = find_javahome()\n",
      "    File \"C:\\Users\\G\\AppData\\Local\\Temp\\pip-install-3jiq232y\\python-javabridge_ac48ae08aa184d7e9fc814d62a0d8be8\\javabridge\\locate.py\", line 181, in find_javahome\n",
      "      raise RuntimeError(\n",
      "  RuntimeError: Failed to find the Java Runtime Environment. Please download and install the Oracle JRE 1.6 or later\n",
      "  [end of output]\n",
      "  \n",
      "  note: This error originates from a subprocess, and is likely not a problem with pip.\n",
      "error: metadata-generation-failed\n",
      "\n",
      "Encountered error while generating package metadata.\n",
      "\n",
      "See above for output.\n",
      "\n",
      "note: This is an issue with the package mentioned above, not pip.\n",
      "hint: See above for details.\n"
     ]
    }
   ],
   "source": [
    "!pip install python-bioformats"
   ]
  },
  {
   "cell_type": "code",
   "execution_count": null,
   "metadata": {},
   "outputs": [],
   "source": []
  }
 ],
 "metadata": {
  "kernelspec": {
   "display_name": "Python 3 (ipykernel)",
   "language": "python",
   "name": "python3"
  },
  "language_info": {
   "codemirror_mode": {
    "name": "ipython",
    "version": 3
   },
   "file_extension": ".py",
   "mimetype": "text/x-python",
   "name": "python",
   "nbconvert_exporter": "python",
   "pygments_lexer": "ipython3",
   "version": "3.10.9"
  }
 },
 "nbformat": 4,
 "nbformat_minor": 2
}
