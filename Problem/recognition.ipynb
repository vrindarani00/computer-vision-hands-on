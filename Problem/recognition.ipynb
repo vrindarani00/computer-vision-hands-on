{
 "cells": [
  {
   "cell_type": "code",
   "execution_count": 41,
   "metadata": {},
   "outputs": [],
   "source": [
    "import cv2\n",
    "import h5py\n",
    "from imutils import paths\n",
    "import numpy as np\n",
    "import random"
   ]
  },
  {
   "cell_type": "code",
   "execution_count": 36,
   "metadata": {},
   "outputs": [],
   "source": [
    "# import os\n",
    "# dir = r\"C:\\Users\\vrinda\\Documents\\GitHub\\computer-vision-hands-on\\Problem\\dataset\\Wood Dataset\\Test\"\n",
    "# images, names = [], []\n",
    "# for img_name in os.listdir(dir):\n",
    "#     img_path = dir+'\\\\'+img_name\n",
    "#     img = cv2.imread(img_path)\n",
    "#     images.append(img)\n",
    "#     names.append(img_name)"
   ]
  },
  {
   "cell_type": "code",
   "execution_count": 23,
   "metadata": {},
   "outputs": [
    {
     "data": {
      "text/plain": [
       "'1077_1.jpg'"
      ]
     },
     "execution_count": 23,
     "metadata": {},
     "output_type": "execute_result"
    }
   ],
   "source": [
    "# names[2]"
   ]
  },
  {
   "cell_type": "code",
   "execution_count": 37,
   "metadata": {},
   "outputs": [],
   "source": [
    "# import random\n",
    "# # random.shuffle(zip(images,names))\n",
    "# l=list(zip(images,names))\n",
    "# random.shuffle(l)"
   ]
  },
  {
   "cell_type": "code",
   "execution_count": 38,
   "metadata": {},
   "outputs": [],
   "source": [
    "# l[2]"
   ]
  },
  {
   "cell_type": "code",
   "execution_count": 15,
   "metadata": {},
   "outputs": [],
   "source": [
    "# with h5py.File(r'C:\\Users\\vrinda\\Documents\\GitHub\\computer-vision-hands-on\\Problem\\dataset\\wood_species_train.hdF5','w') as f:\n",
    "#     dset = f.create_dataset('images',data=images)\n",
    "#     dset = f.create_dataset('labels',data=labels)"
   ]
  },
  {
   "cell_type": "code",
   "execution_count": 39,
   "metadata": {},
   "outputs": [],
   "source": [
    "# pip install opencv-python"
   ]
  },
  {
   "cell_type": "code",
   "execution_count": 40,
   "metadata": {},
   "outputs": [],
   "source": [
    "# pip install h5py"
   ]
  },
  {
   "cell_type": "code",
   "execution_count": 93,
   "metadata": {},
   "outputs": [
    {
     "name": "stdout",
     "output_type": "stream",
     "text": [
      "[(1, 2, 3), (4, 5, 6)]\n"
     ]
    },
    {
     "data": {
      "text/plain": [
       "[1, 2, 3]"
      ]
     },
     "execution_count": 93,
     "metadata": {},
     "output_type": "execute_result"
    }
   ],
   "source": [
    "# l1 = [1,2,3]\n",
    "# l2 = [4,5,6]\n",
    "# zl = list(zip(l1,l2))\n",
    "# uzl = list(zip(*zl))\n",
    "# print(uzl)\n",
    "# k=list(uzl[0])\n",
    "# k"
   ]
  },
  {
   "cell_type": "code",
   "execution_count": 45,
   "metadata": {},
   "outputs": [
    {
     "data": {
      "text/plain": [
       "1"
      ]
     },
     "execution_count": 45,
     "metadata": {},
     "output_type": "execute_result"
    }
   ],
   "source": [
    "# train_data = r'C:\\Users\\vrinda\\Documents\\GitHub\\computer-vision-hands-on\\Problem\\dataset\\wood_species_train.hdF5'\n",
    "# with h5py.File(train_data) as f:\n",
    "#     imgs = f['images'][:]\n",
    "#     labels = f['labels'][:]\n",
    "    \n",
    "# # print(imgs.shape,labels.shape)\n",
    "# # print(imgs)\n",
    "# labels[2]"
   ]
  },
  {
   "cell_type": "code",
   "execution_count": 47,
   "metadata": {},
   "outputs": [],
   "source": [
    "# zip(imgs,labels)\n",
    "# td = list(zip(imgs,labels))\n",
    "# random.shuffle(td)\n"
   ]
  },
  {
   "cell_type": "code",
   "execution_count": 3,
   "metadata": {},
   "outputs": [],
   "source": [
    "# i = 500\n",
    "# cv2.imshow(str(labels[500]),imgs[500])\n",
    "# cv2.waitKey(0)\n",
    "# cv2.destroyAllWindows()"
   ]
  },
  {
   "cell_type": "code",
   "execution_count": 11,
   "metadata": {},
   "outputs": [
    {
     "data": {
      "text/plain": [
       "array(['C:\\\\Users\\\\vrinda\\\\Documents\\\\GitHub\\\\computer-vision-hands-on\\\\Problem\\\\dataset\\\\Wood Dataset\\\\Test\\\\1075_1.jpg',\n",
       "       'C:\\\\Users\\\\vrinda\\\\Documents\\\\GitHub\\\\computer-vision-hands-on\\\\Problem\\\\dataset\\\\Wood Dataset\\\\Test\\\\1076_1.jpg',\n",
       "       'C:\\\\Users\\\\vrinda\\\\Documents\\\\GitHub\\\\computer-vision-hands-on\\\\Problem\\\\dataset\\\\Wood Dataset\\\\Test\\\\1077_1.jpg',\n",
       "       ...,\n",
       "       'C:\\\\Users\\\\vrinda\\\\Documents\\\\GitHub\\\\computer-vision-hands-on\\\\Problem\\\\dataset\\\\Wood Dataset\\\\Test\\\\999_1.jpg',\n",
       "       'C:\\\\Users\\\\vrinda\\\\Documents\\\\GitHub\\\\computer-vision-hands-on\\\\Problem\\\\dataset\\\\Wood Dataset\\\\Test\\\\99_10.jpg',\n",
       "       'C:\\\\Users\\\\vrinda\\\\Documents\\\\GitHub\\\\computer-vision-hands-on\\\\Problem\\\\dataset\\\\Wood Dataset\\\\Test\\\\9_10.jpg'],\n",
       "      dtype='<U102')"
      ]
     },
     "execution_count": 11,
     "metadata": {},
     "output_type": "execute_result"
    }
   ],
   "source": [
    "# train_img = list(paths.list_images(r\"C:\\Users\\vrinda\\Documents\\GitHub\\computer-vision-hands-on\\Problem\\dataset\\Wood Dataset\\Test\"))\n",
    "# # train_img = np.array(train_img)\n",
    "# train_img"
   ]
  },
  {
   "cell_type": "code",
   "execution_count": 105,
   "metadata": {},
   "outputs": [],
   "source": [
    "from sklearn.model_selection import train_test_split \n",
    "(trainX, testX, trainY, testY) = train_test_split(imgs,labels, test_size=0.25) "
   ]
  },
  {
   "cell_type": "code",
   "execution_count": 145,
   "metadata": {},
   "outputs": [],
   "source": [
    "sift = cv2.xfeatures2d.SIFT_create()\n",
    "trainX_descriptors = []\n",
    "none_idx = []\n",
    "for i,img in enumerate(trainX):\n",
    "    key,desc = sift.detectAndCompute(img,None)\n",
    "    try:\n",
    "        notnone = desc.any()\n",
    "        trainX_descriptors.append(desc)\n",
    "    except:\n",
    "        none_idx.append(i)\n",
    "# trainX_descriptors = np.vstack(trainX_descriptors)\n",
    "# print(trainX_descriptors)\n",
    "\n"
   ]
  },
  {
   "cell_type": "code",
   "execution_count": 149,
   "metadata": {},
   "outputs": [
    {
     "data": {
      "text/plain": [
       "(707316, 128)"
      ]
     },
     "execution_count": 149,
     "metadata": {},
     "output_type": "execute_result"
    }
   ],
   "source": [
    "np.vstack(trainX_descriptors).shape"
   ]
  },
  {
   "cell_type": "code",
   "execution_count": null,
   "metadata": {},
   "outputs": [],
   "source": [
    "testY_descriptors = []\n",
    "non_idx =[]\n",
    "for i,img in enumerate(testX):\n",
    "    key,desc =sift.detectAndCompute(img,None)\n",
    "    try:\n",
    "        notnone = desc.any()\n",
    "        testY_descriptors.append(desc)\n",
    "    except:\n",
    "\n"
   ]
  },
  {
   "cell_type": "code",
   "execution_count": 136,
   "metadata": {},
   "outputs": [
    {
     "name": "stderr",
     "output_type": "stream",
     "text": [
      "C:\\Users\\vrinda\\AppData\\Local\\Temp\\ipykernel_15608\\1069252687.py:1: VisibleDeprecationWarning: Creating an ndarray from ragged nested sequences (which is a list-or-tuple of lists-or-tuples-or ndarrays with different lengths or shapes) is deprecated. If you meant to do this, you must specify 'dtype=object' when creating the ndarray.\n",
      "  np.where(np.array(trainX_descriptors)==None)\n",
      "C:\\Users\\vrinda\\AppData\\Local\\Temp\\ipykernel_15608\\1069252687.py:1: DeprecationWarning: elementwise comparison failed; this will raise an error in the future.\n",
      "  np.where(np.array(trainX_descriptors)==None)\n"
     ]
    },
    {
     "data": {
      "text/plain": [
       "(array([], dtype=int64),)"
      ]
     },
     "execution_count": 136,
     "metadata": {},
     "output_type": "execute_result"
    }
   ],
   "source": [
    "np.where(np.array(trainX_descriptors)==None)"
   ]
  }
 ],
 "metadata": {
  "kernelspec": {
   "display_name": "base",
   "language": "python",
   "name": "python3"
  },
  "language_info": {
   "codemirror_mode": {
    "name": "ipython",
    "version": 3
   },
   "file_extension": ".py",
   "mimetype": "text/x-python",
   "name": "python",
   "nbconvert_exporter": "python",
   "pygments_lexer": "ipython3",
   "version": "3.9.13"
  },
  "orig_nbformat": 4
 },
 "nbformat": 4,
 "nbformat_minor": 2
}
